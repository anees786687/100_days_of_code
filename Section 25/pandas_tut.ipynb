{
 "cells": [
  {
   "cell_type": "code",
   "execution_count": null,
   "id": "bbb1a8ed",
   "metadata": {},
   "outputs": [],
   "source": [
    "import pandas"
   ]
  },
  {
   "cell_type": "markdown",
   "id": "aa39accf",
   "metadata": {},
   "source": [
    "## Why not to use normal open\n",
    "\n",
    "when we simply open the file and do readlines, we get a list of strings; the string are also comma separated. This format is difficult to work with when we are working with data. Thus we use the pandas frame work in order to import the data in a clean format so we can work on it easily."
   ]
  },
  {
   "cell_type": "code",
   "execution_count": null,
   "id": "f5a700b7",
   "metadata": {},
   "outputs": [],
   "source": [
    "# reading data file with normal open\n",
    "with open('weather_data.csv') as weather_data:\n",
    "    content = weather_data.readlines()\n",
    "    print(content)"
   ]
  },
  {
   "cell_type": "markdown",
   "id": "8f50482f",
   "metadata": {},
   "source": [
    "## Getting csv data into pandas\n",
    "\n",
    "We start of my importing csv module. \n",
    "1. use the 'with' instance manager and open the file in question. \n",
    "2.  make a variable and store the csv.reader object in this variable. \n",
    "3. Loop through this variable to display the data\n",
    "\n",
    "\n",
    "This is still tedious, thus we use pandas to make our life easier!"
   ]
  },
  {
   "cell_type": "code",
   "execution_count": null,
   "id": "7b79b04a",
   "metadata": {},
   "outputs": [],
   "source": [
    "import csv\n",
    "\n",
    "# open the file \n",
    "with open('weather_data.csv') as data_file:\n",
    "    # make csv reader object\n",
    "    data = csv.reader(data_file)\n",
    "    # print(type(data), data)\n",
    "    # use the csv reader object to read the data\n",
    "    temperatures = []\n",
    "    for rows in data:\n",
    "        print(rows) # each row is taken in the csv files and separated out into single values\n",
    "        # this is done for all rows\n",
    "        # now we extract the temperature values\n",
    "        if rows[1] != 'temp':\n",
    "            temperatures.append(int(rows[1]))\n",
    "\n",
    "    print(temperatures)\n"
   ]
  },
  {
   "cell_type": "markdown",
   "id": "16d1aff8",
   "metadata": {},
   "source": [
    "## Pandas\n",
    "\n",
    "to read data use pandas.csv('filepath') unlike the above method we dont need to explicitly open the file and create a reader, pandas takes care of this.\n",
    "\n",
    "Pandas gets the data in a nicely in a table "
   ]
  },
  {
   "cell_type": "code",
   "execution_count": 24,
   "id": "a5b160f5",
   "metadata": {},
   "outputs": [],
   "source": [
    "import pandas as pd"
   ]
  },
  {
   "cell_type": "code",
   "execution_count": 26,
   "id": "54cbe392",
   "metadata": {},
   "outputs": [
    {
     "name": "stdout",
     "output_type": "stream",
     "text": [
      "0    12\n",
      "1    14\n",
      "2    15\n",
      "3    14\n",
      "4    21\n",
      "5    22\n",
      "6    24\n",
      "Name: temp, dtype: int64\n"
     ]
    }
   ],
   "source": [
    "data = pd.read_csv('weather_data.csv')\n",
    "# print(data)\n",
    "\n",
    "# to get temperature data\n",
    "print(data[\"temp\"]) # the column names can be used as a value to get the values of the column"
   ]
  },
  {
   "cell_type": "code",
   "execution_count": 27,
   "id": "3c20c813",
   "metadata": {},
   "outputs": [
    {
     "name": "stdout",
     "output_type": "stream",
     "text": [
      "<class 'pandas.core.frame.DataFrame'>\n",
      "<class 'pandas.core.series.Series'>\n"
     ]
    }
   ],
   "source": [
    "# we can always check the data type of the object. Here we check what type of object is returned by read_csv\n",
    "print(type(data)) # data frame object\n",
    "print(type(data['temp']))"
   ]
  },
  {
   "cell_type": "markdown",
   "id": "f8207f49",
   "metadata": {},
   "source": [
    "The dataframe object is 2 dimensional in nature, pandas also handles one dimensional data which are called Series, series are like lists; every single column is a list.\n",
    "\n",
    "We can convert the dataframe to various different file types such as excel, html, dictionary"
   ]
  },
  {
   "cell_type": "code",
   "execution_count": 28,
   "id": "2b5a0a5f",
   "metadata": {},
   "outputs": [
    {
     "name": "stdout",
     "output_type": "stream",
     "text": [
      "{'day': {0: 'Monday', 1: 'Tuesday', 2: 'Wednesday', 3: 'Thursday', 4: 'Friday', 5: 'Saturday', 6: 'Sunday'}, 'temp': {0: 12, 1: 14, 2: 15, 3: 14, 4: 21, 5: 22, 6: 24}, 'condition': {0: 'Sunny', 1: 'Rain', 2: 'Rain', 3: 'Cloudy', 4: 'Sunny', 5: 'Sunny', 6: 'Sunny'}}\n"
     ]
    }
   ],
   "source": [
    "# converting dataframe to dictionary\n",
    "data_dict = data.to_dict() # makes a dictionary of dictionary\n",
    "print(data_dict)"
   ]
  },
  {
   "cell_type": "code",
   "execution_count": 29,
   "metadata": {},
   "outputs": [
    {
     "name": "stdout",
     "output_type": "stream",
     "text": [
      "[12, 14, 15, 14, 21, 22, 24]\n"
     ]
    }
   ],
   "source": [
    "# we can also convertseries to a list\n",
    "temp_list = data['temp'].to_list()\n",
    "print(temp_list) # we conperform list operations on this"
   ]
  },
  {
   "cell_type": "code",
   "execution_count": 23,
   "id": "bd3f5016",
   "metadata": {},
   "outputs": [],
   "source": [
    "%reset"
   ]
  },
  {
   "cell_type": "code",
   "execution_count": 30,
   "id": "f50d46d9",
   "metadata": {},
   "outputs": [
    {
     "name": "stdout",
     "output_type": "stream",
     "text": [
      "17.428571428571427\n"
     ]
    }
   ],
   "source": [
    "avg = sum(temp_list)/len(temp_list)\n",
    "print(avg)"
   ]
  },
  {
   "cell_type": "code",
   "execution_count": 31,
   "id": "26ac24cf",
   "metadata": {},
   "outputs": [
    {
     "name": "stdout",
     "output_type": "stream",
     "text": [
      "17.428571428571427\n"
     ]
    }
   ],
   "source": [
    "# another way to get avg is a method from the Series object\n",
    "print(data['temp'].mean())"
   ]
  },
  {
   "cell_type": "code",
   "execution_count": 32,
   "id": "49f7926f",
   "metadata": {},
   "outputs": [
    {
     "name": "stdout",
     "output_type": "stream",
     "text": [
      "24\n"
     ]
    }
   ],
   "source": [
    "# another method to get the max value in the series\n",
    "print(data['temp'].max())"
   ]
  },
  {
   "cell_type": "markdown",
   "id": "dac54717",
   "metadata": {},
   "source": [
    "## in the regular way of selecting columns data['col'] where the col name has to be perfectly matched, there is another way to select columns is by using 'attributes'attributes'\n",
    "## so each column has been converted to python attribute"
   ]
  },
  {
   "cell_type": "code",
   "execution_count": null,
   "id": "b4e428bc",
   "metadata": {},
   "outputs": [
    {
     "name": "stdout",
     "output_type": "stream",
     "text": [
      "<class 'pandas.core.series.Series'>\n",
      "0     Sunny\n",
      "1      Rain\n",
      "2      Rain\n",
      "3    Cloudy\n",
      "4     Sunny\n",
      "5     Sunny\n",
      "6     Sunny\n",
      "Name: condition, dtype: object\n"
     ]
    }
   ],
   "source": [
    "# selecting the condition column\n",
    "print(type(data.condition))\n",
    "print(data.condition) # here we treat data frame like an object"
   ]
  },
  {
   "cell_type": "markdown",
   "id": "c8c0689d",
   "metadata": {},
   "source": [
    "## How to get data in the rows of the data frame\n",
    "so if we give the name of the col as a string to data['col_name'] we get the entire column\n",
    "but if we give some condition we can extract a row(s) from satisfying that condition for instance data[data.day == 'Monday'] returns the row(s) whose day is Monday.\n",
    "\n",
    "The row also consists of lot of data, say we just wanted to extract the temperature on a monday. We stat of by storing that row in a variable (***This will be a DataFrame object***), and then we can access the attributes of that row\n",
    "similar to how we access columns in the dataframe"
   ]
  },
  {
   "cell_type": "code",
   "execution_count": 45,
   "id": "6710dc4a",
   "metadata": {},
   "outputs": [
    {
     "name": "stdout",
     "output_type": "stream",
     "text": [
      "<class 'pandas.core.frame.DataFrame'> 0    12\n",
      "Name: temp, dtype: int64\n"
     ]
    }
   ],
   "source": [
    "# say I want to get the weather data on monday\n",
    "# print(data[data.day == 'Monday'])\n",
    "\n",
    "# Now i only wanna get the temperature on Monday\n",
    "monday_row = data[data.day == 'Monday']\n",
    "print(type(monday_row), monday_row.temp)\n"
   ]
  },
  {
   "cell_type": "code",
   "execution_count": 38,
   "id": "d6f6e841",
   "metadata": {},
   "outputs": [
    {
     "name": "stdout",
     "output_type": "stream",
     "text": [
      "      day  temp condition\n",
      "6  Sunday    24     Sunny\n"
     ]
    }
   ],
   "source": [
    "# challenge - pull out the row data where the temperature was maximum\n",
    "print(data[data.temp == data.temp.max()])"
   ]
  },
  {
   "cell_type": "code",
   "execution_count": 56,
   "id": "084c0073",
   "metadata": {},
   "outputs": [
    {
     "name": "stdout",
     "output_type": "stream",
     "text": [
      "0    53.6\n",
      "Name: temp, dtype: float64\n"
     ]
    },
    {
     "data": {
      "text/plain": [
       "0    Monday\n",
       "Name: day, dtype: object"
      ]
     },
     "execution_count": 56,
     "metadata": {},
     "output_type": "execute_result"
    }
   ],
   "source": [
    "#challenge - convert celsius data into fahrenheit\n",
    "temp_list = data[data.day == 'Monday']\n",
    "monday_temp_F = (temp_list.temp) * (9/5) + 32\n",
    "print(monday_temp_F)\n",
    "temp_list.day"
   ]
  },
  {
   "cell_type": "code",
   "execution_count": null,
   "id": "3287a2b4",
   "metadata": {},
   "outputs": [
    {
     "data": {
      "text/html": [
       "<div>\n",
       "<style scoped>\n",
       "    .dataframe tbody tr th:only-of-type {\n",
       "        vertical-align: middle;\n",
       "    }\n",
       "\n",
       "    .dataframe tbody tr th {\n",
       "        vertical-align: top;\n",
       "    }\n",
       "\n",
       "    .dataframe thead th {\n",
       "        text-align: right;\n",
       "    }\n",
       "</style>\n",
       "<table border=\"1\" class=\"dataframe\">\n",
       "  <thead>\n",
       "    <tr style=\"text-align: right;\">\n",
       "      <th></th>\n",
       "      <th>day</th>\n",
       "      <th>temp</th>\n",
       "      <th>condition</th>\n",
       "    </tr>\n",
       "  </thead>\n",
       "  <tbody>\n",
       "    <tr>\n",
       "      <th>0</th>\n",
       "      <td>Monday</td>\n",
       "      <td>12</td>\n",
       "      <td>Sunny</td>\n",
       "    </tr>\n",
       "    <tr>\n",
       "      <th>1</th>\n",
       "      <td>Tuesday</td>\n",
       "      <td>14</td>\n",
       "      <td>Rain</td>\n",
       "    </tr>\n",
       "    <tr>\n",
       "      <th>2</th>\n",
       "      <td>Wednesday</td>\n",
       "      <td>15</td>\n",
       "      <td>Rain</td>\n",
       "    </tr>\n",
       "    <tr>\n",
       "      <th>3</th>\n",
       "      <td>Thursday</td>\n",
       "      <td>14</td>\n",
       "      <td>Cloudy</td>\n",
       "    </tr>\n",
       "  </tbody>\n",
       "</table>\n",
       "</div>"
      ],
      "text/plain": [
       "         day  temp condition\n",
       "0     Monday    12     Sunny\n",
       "1    Tuesday    14      Rain\n",
       "2  Wednesday    15      Rain\n",
       "3   Thursday    14    Cloudy"
      ]
     },
     "execution_count": 43,
     "metadata": {},
     "output_type": "execute_result"
    }
   ],
   "source": [
    "data[data.temp < 20] #"
   ]
  },
  {
   "cell_type": "markdown",
   "id": "794f4337",
   "metadata": {},
   "source": [
    "# Creating DataFrame from scratch \n",
    "To do so we need a dictionary of lists, the key values will be the column names and the lists will be the column values. \n",
    "Once we have the dictionary of lists, we can create a datafram object using pd.DataFrame() and pass the data_dict as an arguement.\n",
    "\n",
    "Further the created dataframe can also be saved as CSV file using the to_csv mehtod of the DataFrame object, the arguement would be file path in form of a string\n",
    "\n",
    "\n",
    "See the example below"
   ]
  },
  {
   "cell_type": "code",
   "execution_count": 58,
   "id": "3f4aff7a",
   "metadata": {},
   "outputs": [
    {
     "name": "stdout",
     "output_type": "stream",
     "text": [
      "  students  scores\n",
      "0      Amy      76\n",
      "1    James      56\n",
      "2   Angela      65\n"
     ]
    }
   ],
   "source": [
    "data_dict = {\n",
    "    'students': ['Amy','James','Angela'],\n",
    "    'scores': [76,56,65]\n",
    "}\n",
    "\n",
    "data = pd.DataFrame(data_dict)\n",
    "print(data)\n",
    "\n",
    "# saving the data frame as a csv\n",
    "data.to_csv('./student_data.csv')"
   ]
  },
  {
   "cell_type": "markdown",
   "id": "f3147a6c",
   "metadata": {},
   "source": [
    "# Central Park Squirrel Data Analysis"
   ]
  },
  {
   "cell_type": "code",
   "execution_count": 60,
   "id": "ba771e08",
   "metadata": {},
   "outputs": [
    {
     "data": {
      "text/html": [
       "<div>\n",
       "<style scoped>\n",
       "    .dataframe tbody tr th:only-of-type {\n",
       "        vertical-align: middle;\n",
       "    }\n",
       "\n",
       "    .dataframe tbody tr th {\n",
       "        vertical-align: top;\n",
       "    }\n",
       "\n",
       "    .dataframe thead th {\n",
       "        text-align: right;\n",
       "    }\n",
       "</style>\n",
       "<table border=\"1\" class=\"dataframe\">\n",
       "  <thead>\n",
       "    <tr style=\"text-align: right;\">\n",
       "      <th></th>\n",
       "      <th>X</th>\n",
       "      <th>Y</th>\n",
       "      <th>Unique Squirrel ID</th>\n",
       "      <th>Hectare</th>\n",
       "      <th>Shift</th>\n",
       "      <th>Date</th>\n",
       "      <th>Hectare Squirrel Number</th>\n",
       "      <th>Age</th>\n",
       "      <th>Primary Fur Color</th>\n",
       "      <th>Highlight Fur Color</th>\n",
       "      <th>...</th>\n",
       "      <th>Kuks</th>\n",
       "      <th>Quaas</th>\n",
       "      <th>Moans</th>\n",
       "      <th>Tail flags</th>\n",
       "      <th>Tail twitches</th>\n",
       "      <th>Approaches</th>\n",
       "      <th>Indifferent</th>\n",
       "      <th>Runs from</th>\n",
       "      <th>Other Interactions</th>\n",
       "      <th>Lat/Long</th>\n",
       "    </tr>\n",
       "  </thead>\n",
       "  <tbody>\n",
       "    <tr>\n",
       "      <th>0</th>\n",
       "      <td>-73.956134</td>\n",
       "      <td>40.794082</td>\n",
       "      <td>37F-PM-1014-03</td>\n",
       "      <td>37F</td>\n",
       "      <td>PM</td>\n",
       "      <td>10142018</td>\n",
       "      <td>3</td>\n",
       "      <td>NaN</td>\n",
       "      <td>NaN</td>\n",
       "      <td>NaN</td>\n",
       "      <td>...</td>\n",
       "      <td>False</td>\n",
       "      <td>False</td>\n",
       "      <td>False</td>\n",
       "      <td>False</td>\n",
       "      <td>False</td>\n",
       "      <td>False</td>\n",
       "      <td>False</td>\n",
       "      <td>False</td>\n",
       "      <td>NaN</td>\n",
       "      <td>POINT (-73.9561344937861 40.7940823884086)</td>\n",
       "    </tr>\n",
       "    <tr>\n",
       "      <th>1</th>\n",
       "      <td>-73.957044</td>\n",
       "      <td>40.794851</td>\n",
       "      <td>37E-PM-1006-03</td>\n",
       "      <td>37E</td>\n",
       "      <td>PM</td>\n",
       "      <td>10062018</td>\n",
       "      <td>3</td>\n",
       "      <td>Adult</td>\n",
       "      <td>Gray</td>\n",
       "      <td>Cinnamon</td>\n",
       "      <td>...</td>\n",
       "      <td>False</td>\n",
       "      <td>False</td>\n",
       "      <td>False</td>\n",
       "      <td>False</td>\n",
       "      <td>False</td>\n",
       "      <td>False</td>\n",
       "      <td>False</td>\n",
       "      <td>True</td>\n",
       "      <td>me</td>\n",
       "      <td>POINT (-73.9570437717691 40.794850940803904)</td>\n",
       "    </tr>\n",
       "    <tr>\n",
       "      <th>2</th>\n",
       "      <td>-73.976831</td>\n",
       "      <td>40.766718</td>\n",
       "      <td>2E-AM-1010-03</td>\n",
       "      <td>02E</td>\n",
       "      <td>AM</td>\n",
       "      <td>10102018</td>\n",
       "      <td>3</td>\n",
       "      <td>Adult</td>\n",
       "      <td>Cinnamon</td>\n",
       "      <td>NaN</td>\n",
       "      <td>...</td>\n",
       "      <td>False</td>\n",
       "      <td>False</td>\n",
       "      <td>False</td>\n",
       "      <td>False</td>\n",
       "      <td>False</td>\n",
       "      <td>False</td>\n",
       "      <td>True</td>\n",
       "      <td>False</td>\n",
       "      <td>NaN</td>\n",
       "      <td>POINT (-73.9768311751004 40.76671780725581)</td>\n",
       "    </tr>\n",
       "    <tr>\n",
       "      <th>3</th>\n",
       "      <td>-73.975725</td>\n",
       "      <td>40.769703</td>\n",
       "      <td>5D-PM-1018-05</td>\n",
       "      <td>05D</td>\n",
       "      <td>PM</td>\n",
       "      <td>10182018</td>\n",
       "      <td>5</td>\n",
       "      <td>Juvenile</td>\n",
       "      <td>Gray</td>\n",
       "      <td>NaN</td>\n",
       "      <td>...</td>\n",
       "      <td>False</td>\n",
       "      <td>False</td>\n",
       "      <td>False</td>\n",
       "      <td>False</td>\n",
       "      <td>False</td>\n",
       "      <td>False</td>\n",
       "      <td>False</td>\n",
       "      <td>True</td>\n",
       "      <td>NaN</td>\n",
       "      <td>POINT (-73.9757249834141 40.7697032606755)</td>\n",
       "    </tr>\n",
       "    <tr>\n",
       "      <th>4</th>\n",
       "      <td>-73.959313</td>\n",
       "      <td>40.797533</td>\n",
       "      <td>39B-AM-1018-01</td>\n",
       "      <td>39B</td>\n",
       "      <td>AM</td>\n",
       "      <td>10182018</td>\n",
       "      <td>1</td>\n",
       "      <td>NaN</td>\n",
       "      <td>NaN</td>\n",
       "      <td>NaN</td>\n",
       "      <td>...</td>\n",
       "      <td>True</td>\n",
       "      <td>False</td>\n",
       "      <td>False</td>\n",
       "      <td>False</td>\n",
       "      <td>False</td>\n",
       "      <td>False</td>\n",
       "      <td>False</td>\n",
       "      <td>False</td>\n",
       "      <td>NaN</td>\n",
       "      <td>POINT (-73.9593126695714 40.797533370163)</td>\n",
       "    </tr>\n",
       "    <tr>\n",
       "      <th>...</th>\n",
       "      <td>...</td>\n",
       "      <td>...</td>\n",
       "      <td>...</td>\n",
       "      <td>...</td>\n",
       "      <td>...</td>\n",
       "      <td>...</td>\n",
       "      <td>...</td>\n",
       "      <td>...</td>\n",
       "      <td>...</td>\n",
       "      <td>...</td>\n",
       "      <td>...</td>\n",
       "      <td>...</td>\n",
       "      <td>...</td>\n",
       "      <td>...</td>\n",
       "      <td>...</td>\n",
       "      <td>...</td>\n",
       "      <td>...</td>\n",
       "      <td>...</td>\n",
       "      <td>...</td>\n",
       "      <td>...</td>\n",
       "      <td>...</td>\n",
       "    </tr>\n",
       "    <tr>\n",
       "      <th>3018</th>\n",
       "      <td>-73.963943</td>\n",
       "      <td>40.790868</td>\n",
       "      <td>30B-AM-1007-04</td>\n",
       "      <td>30B</td>\n",
       "      <td>AM</td>\n",
       "      <td>10072018</td>\n",
       "      <td>4</td>\n",
       "      <td>Adult</td>\n",
       "      <td>Gray</td>\n",
       "      <td>NaN</td>\n",
       "      <td>...</td>\n",
       "      <td>False</td>\n",
       "      <td>False</td>\n",
       "      <td>False</td>\n",
       "      <td>False</td>\n",
       "      <td>False</td>\n",
       "      <td>False</td>\n",
       "      <td>False</td>\n",
       "      <td>True</td>\n",
       "      <td>NaN</td>\n",
       "      <td>POINT (-73.9639431360458 40.7908677445466)</td>\n",
       "    </tr>\n",
       "    <tr>\n",
       "      <th>3019</th>\n",
       "      <td>-73.970402</td>\n",
       "      <td>40.782560</td>\n",
       "      <td>19A-PM-1013-05</td>\n",
       "      <td>19A</td>\n",
       "      <td>PM</td>\n",
       "      <td>10132018</td>\n",
       "      <td>5</td>\n",
       "      <td>Adult</td>\n",
       "      <td>Gray</td>\n",
       "      <td>White</td>\n",
       "      <td>...</td>\n",
       "      <td>False</td>\n",
       "      <td>False</td>\n",
       "      <td>False</td>\n",
       "      <td>False</td>\n",
       "      <td>False</td>\n",
       "      <td>False</td>\n",
       "      <td>True</td>\n",
       "      <td>False</td>\n",
       "      <td>NaN</td>\n",
       "      <td>POINT (-73.9704015859639 40.7825600069973)</td>\n",
       "    </tr>\n",
       "    <tr>\n",
       "      <th>3020</th>\n",
       "      <td>-73.966587</td>\n",
       "      <td>40.783678</td>\n",
       "      <td>22D-PM-1012-07</td>\n",
       "      <td>22D</td>\n",
       "      <td>PM</td>\n",
       "      <td>10122018</td>\n",
       "      <td>7</td>\n",
       "      <td>Adult</td>\n",
       "      <td>Gray</td>\n",
       "      <td>Black, Cinnamon, White</td>\n",
       "      <td>...</td>\n",
       "      <td>False</td>\n",
       "      <td>False</td>\n",
       "      <td>False</td>\n",
       "      <td>False</td>\n",
       "      <td>False</td>\n",
       "      <td>False</td>\n",
       "      <td>True</td>\n",
       "      <td>False</td>\n",
       "      <td>NaN</td>\n",
       "      <td>POINT (-73.9665871993517 40.7836775064883)</td>\n",
       "    </tr>\n",
       "    <tr>\n",
       "      <th>3021</th>\n",
       "      <td>-73.963994</td>\n",
       "      <td>40.789915</td>\n",
       "      <td>29B-PM-1010-02</td>\n",
       "      <td>29B</td>\n",
       "      <td>PM</td>\n",
       "      <td>10102018</td>\n",
       "      <td>2</td>\n",
       "      <td>NaN</td>\n",
       "      <td>Gray</td>\n",
       "      <td>Cinnamon, White</td>\n",
       "      <td>...</td>\n",
       "      <td>False</td>\n",
       "      <td>False</td>\n",
       "      <td>False</td>\n",
       "      <td>False</td>\n",
       "      <td>False</td>\n",
       "      <td>False</td>\n",
       "      <td>True</td>\n",
       "      <td>False</td>\n",
       "      <td>NaN</td>\n",
       "      <td>POINT (-73.9639941227864 40.7899152327912)</td>\n",
       "    </tr>\n",
       "    <tr>\n",
       "      <th>3022</th>\n",
       "      <td>-73.975479</td>\n",
       "      <td>40.769640</td>\n",
       "      <td>5E-PM-1012-01</td>\n",
       "      <td>05E</td>\n",
       "      <td>PM</td>\n",
       "      <td>10122018</td>\n",
       "      <td>1</td>\n",
       "      <td>Adult</td>\n",
       "      <td>Cinnamon</td>\n",
       "      <td>Gray, White</td>\n",
       "      <td>...</td>\n",
       "      <td>False</td>\n",
       "      <td>False</td>\n",
       "      <td>False</td>\n",
       "      <td>False</td>\n",
       "      <td>False</td>\n",
       "      <td>True</td>\n",
       "      <td>False</td>\n",
       "      <td>False</td>\n",
       "      <td>NaN</td>\n",
       "      <td>POINT (-73.9754794191553 40.7696404489025)</td>\n",
       "    </tr>\n",
       "  </tbody>\n",
       "</table>\n",
       "<p>3023 rows × 31 columns</p>\n",
       "</div>"
      ],
      "text/plain": [
       "              X          Y Unique Squirrel ID Hectare Shift      Date  \\\n",
       "0    -73.956134  40.794082     37F-PM-1014-03     37F    PM  10142018   \n",
       "1    -73.957044  40.794851     37E-PM-1006-03     37E    PM  10062018   \n",
       "2    -73.976831  40.766718      2E-AM-1010-03     02E    AM  10102018   \n",
       "3    -73.975725  40.769703      5D-PM-1018-05     05D    PM  10182018   \n",
       "4    -73.959313  40.797533     39B-AM-1018-01     39B    AM  10182018   \n",
       "...         ...        ...                ...     ...   ...       ...   \n",
       "3018 -73.963943  40.790868     30B-AM-1007-04     30B    AM  10072018   \n",
       "3019 -73.970402  40.782560     19A-PM-1013-05     19A    PM  10132018   \n",
       "3020 -73.966587  40.783678     22D-PM-1012-07     22D    PM  10122018   \n",
       "3021 -73.963994  40.789915     29B-PM-1010-02     29B    PM  10102018   \n",
       "3022 -73.975479  40.769640      5E-PM-1012-01     05E    PM  10122018   \n",
       "\n",
       "      Hectare Squirrel Number       Age Primary Fur Color  \\\n",
       "0                           3       NaN               NaN   \n",
       "1                           3     Adult              Gray   \n",
       "2                           3     Adult          Cinnamon   \n",
       "3                           5  Juvenile              Gray   \n",
       "4                           1       NaN               NaN   \n",
       "...                       ...       ...               ...   \n",
       "3018                        4     Adult              Gray   \n",
       "3019                        5     Adult              Gray   \n",
       "3020                        7     Adult              Gray   \n",
       "3021                        2       NaN              Gray   \n",
       "3022                        1     Adult          Cinnamon   \n",
       "\n",
       "         Highlight Fur Color  ...   Kuks  Quaas  Moans Tail flags  \\\n",
       "0                        NaN  ...  False  False  False      False   \n",
       "1                   Cinnamon  ...  False  False  False      False   \n",
       "2                        NaN  ...  False  False  False      False   \n",
       "3                        NaN  ...  False  False  False      False   \n",
       "4                        NaN  ...   True  False  False      False   \n",
       "...                      ...  ...    ...    ...    ...        ...   \n",
       "3018                     NaN  ...  False  False  False      False   \n",
       "3019                   White  ...  False  False  False      False   \n",
       "3020  Black, Cinnamon, White  ...  False  False  False      False   \n",
       "3021         Cinnamon, White  ...  False  False  False      False   \n",
       "3022             Gray, White  ...  False  False  False      False   \n",
       "\n",
       "     Tail twitches  Approaches  Indifferent  Runs from  Other Interactions  \\\n",
       "0            False       False        False      False                 NaN   \n",
       "1            False       False        False       True                  me   \n",
       "2            False       False         True      False                 NaN   \n",
       "3            False       False        False       True                 NaN   \n",
       "4            False       False        False      False                 NaN   \n",
       "...            ...         ...          ...        ...                 ...   \n",
       "3018         False       False        False       True                 NaN   \n",
       "3019         False       False         True      False                 NaN   \n",
       "3020         False       False         True      False                 NaN   \n",
       "3021         False       False         True      False                 NaN   \n",
       "3022         False        True        False      False                 NaN   \n",
       "\n",
       "                                          Lat/Long  \n",
       "0       POINT (-73.9561344937861 40.7940823884086)  \n",
       "1     POINT (-73.9570437717691 40.794850940803904)  \n",
       "2      POINT (-73.9768311751004 40.76671780725581)  \n",
       "3       POINT (-73.9757249834141 40.7697032606755)  \n",
       "4        POINT (-73.9593126695714 40.797533370163)  \n",
       "...                                            ...  \n",
       "3018    POINT (-73.9639431360458 40.7908677445466)  \n",
       "3019    POINT (-73.9704015859639 40.7825600069973)  \n",
       "3020    POINT (-73.9665871993517 40.7836775064883)  \n",
       "3021    POINT (-73.9639941227864 40.7899152327912)  \n",
       "3022    POINT (-73.9754794191553 40.7696404489025)  \n",
       "\n",
       "[3023 rows x 31 columns]"
      ]
     },
     "execution_count": 60,
     "metadata": {},
     "output_type": "execute_result"
    }
   ],
   "source": [
    "squirrel_data = pd.read_csv('2018_Central_Park_Squirrel_Census_-_Squirrel_Data.csv')\n",
    "squirrel_data\n",
    "\n",
    "# idea is to create a csv with fur_color and count"
   ]
  },
  {
   "cell_type": "code",
   "execution_count": 78,
   "id": "7daf3dd8",
   "metadata": {},
   "outputs": [
    {
     "data": {
      "text/plain": [
       "Primary Fur Color\n",
       "Gray        2473\n",
       "Cinnamon     392\n",
       "Black        103\n",
       "Name: count, dtype: int64"
      ]
     },
     "execution_count": 78,
     "metadata": {},
     "output_type": "execute_result"
    }
   ],
   "source": [
    "squirrel_colors = squirrel_data['Primary Fur Color'].dropna()\n",
    "squirrel_colors = squirrel_colors.value_counts()\n",
    "# squirrel_colors.to_csv('./squirrel_counts.csv')\n",
    "squirrel_colors\n"
   ]
  },
  {
   "cell_type": "code",
   "execution_count": 76,
   "id": "7d66a7e5",
   "metadata": {},
   "outputs": [
    {
     "data": {
      "text/html": [
       "<div>\n",
       "<style scoped>\n",
       "    .dataframe tbody tr th:only-of-type {\n",
       "        vertical-align: middle;\n",
       "    }\n",
       "\n",
       "    .dataframe tbody tr th {\n",
       "        vertical-align: top;\n",
       "    }\n",
       "\n",
       "    .dataframe thead th {\n",
       "        text-align: right;\n",
       "    }\n",
       "</style>\n",
       "<table border=\"1\" class=\"dataframe\">\n",
       "  <thead>\n",
       "    <tr style=\"text-align: right;\">\n",
       "      <th></th>\n",
       "      <th>Primary Fur Color</th>\n",
       "      <th>count</th>\n",
       "    </tr>\n",
       "  </thead>\n",
       "  <tbody>\n",
       "    <tr>\n",
       "      <th>0</th>\n",
       "      <td>Gray</td>\n",
       "      <td>2473</td>\n",
       "    </tr>\n",
       "    <tr>\n",
       "      <th>1</th>\n",
       "      <td>Cinnamon</td>\n",
       "      <td>392</td>\n",
       "    </tr>\n",
       "    <tr>\n",
       "      <th>2</th>\n",
       "      <td>Black</td>\n",
       "      <td>103</td>\n",
       "    </tr>\n",
       "  </tbody>\n",
       "</table>\n",
       "</div>"
      ],
      "text/plain": [
       "  Primary Fur Color  count\n",
       "0              Gray   2473\n",
       "1          Cinnamon    392\n",
       "2             Black    103"
      ]
     },
     "execution_count": 76,
     "metadata": {},
     "output_type": "execute_result"
    }
   ],
   "source": [
    "counts = pd.read_csv('./squirrel_counts.csv')\n",
    "counts"
   ]
  },
  {
   "cell_type": "markdown",
   "id": "2d47d839",
   "metadata": {},
   "source": [
    "# US states game    "
   ]
  },
  {
   "cell_type": "code",
   "execution_count": null,
   "id": "7cd43d19",
   "metadata": {},
   "outputs": [],
   "source": []
  }
 ],
 "metadata": {
  "kernelspec": {
   "display_name": ".venv (3.12.4)",
   "language": "python",
   "name": "python3"
  },
  "language_info": {
   "codemirror_mode": {
    "name": "ipython",
    "version": 3
   },
   "file_extension": ".py",
   "mimetype": "text/x-python",
   "name": "python",
   "nbconvert_exporter": "python",
   "pygments_lexer": "ipython3",
   "version": "3.12.4"
  }
 },
 "nbformat": 4,
 "nbformat_minor": 5
}
